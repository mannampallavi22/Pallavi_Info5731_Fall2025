{
  "cells": [
    {
      "cell_type": "markdown",
      "metadata": {
        "id": "view-in-github",
        "colab_type": "text"
      },
      "source": [
        "<a href=\"https://colab.research.google.com/github/mannampallavi22/Pallavi_Info5731_Fall2025/blob/main/Mannam_Pallavi_Assignment_01.ipynb\" target=\"_parent\"><img src=\"https://colab.research.google.com/assets/colab-badge.svg\" alt=\"Open In Colab\"/></a>"
      ]
    },
    {
      "cell_type": "markdown",
      "metadata": {
        "id": "DymRJbxDBCnf"
      },
      "source": [
        "# **INFO5731 Assiginment 1**\n",
        "\n",
        "This exercise covers a variety of fundamental concepts in Python and is designed to help students improve their coding skills and problem-solving abilities.\n",
        "\n",
        "**Expectations**:\n",
        "*   Students are expected to complete the exercise during lecture period to meet the active participation criteria of the course.\n",
        "*   Use the provided .*ipynb* document to write your code & respond to the questions. Avoid generating a new file.\n",
        "*   Write complete answers and run all the cells before submission.\n",
        "*   Make sure the submission is \"clean\"; *i.e.*, no unnecessary code cells.\n",
        "*   Once finished, allow shared rights from top right corner (*see Canvas for details*).\n",
        "\n",
        "**Total points**: 100\n",
        "\n",
        "**Deadline**: This Assiginment-1 is due by Sunday Midnight\n",
        "\n",
        "**Late submissions cannot be considered, and no requests will be answered. Manage your time accordingly.**\n"
      ]
    },
    {
      "cell_type": "markdown",
      "source": [
        "(1) Write a Python program that  prompts the user to input the length and width of a rectangle, and then calculates and displays the area of the rectangle."
      ],
      "metadata": {
        "id": "FBKvD6O_TY6e"
      }
    },
    {
      "cell_type": "code",
      "source": [
        "Length_of_rectangle = float(input(\"Enter the length of the rectangle: \"))\n",
        "Breadth_of_rectangle = float(input(\"Enter the breadth of the rectangle: \"))\n",
        "\n",
        "#calculating the area of the rectangle\n",
        "Area_of_the_rectangle = Length_of_rectangle*Breadth_of_rectangle\n",
        "\n",
        "#Printing the area of the rectangle\n",
        "print(\"Area of the rectangle: \", Area_of_the_rectangle)"
      ],
      "metadata": {
        "id": "cikVKDXdTbzE",
        "colab": {
          "base_uri": "https://localhost:8080/"
        },
        "outputId": "fc512071-714d-49fa-aa1d-fba341e6646a"
      },
      "execution_count": 1,
      "outputs": [
        {
          "output_type": "stream",
          "name": "stdout",
          "text": [
            "Enter the length of the rectangle: 2\n",
            "Enter the breadth of the rectangle: 4\n",
            "Area of the rectangle:  8.0\n"
          ]
        }
      ]
    },
    {
      "cell_type": "markdown",
      "source": [
        "(2) Create a Python program that interactively takes two numerical inputs from the user and swaps their values without utilizing an extra variable."
      ],
      "metadata": {
        "id": "E9RqrlwdTfvl"
      }
    },
    {
      "cell_type": "code",
      "source": [
        "Variable_1 = int(input(\"Enter variable 1 value: \"))\n",
        "Variable_2 = int(input(\"Enter variable 2 value: \"))\n",
        "\n",
        "#printing variables before swapping\n",
        "print(\"Variables before swapping:\", \"Variable_1 is:\", Variable_1, \"Variable_2 is:\", Variable_2)\n",
        "\n",
        "#Swapping variables without using third variable\n",
        "Variable_1, Variable_2 = Variable_2, Variable_1\n",
        "\n",
        "#printing variables after swapping\n",
        "print(\"Variables after swapping:\", \"Variable_1 is:\", Variable_1, \"Variable_2 is:\", Variable_2)"
      ],
      "metadata": {
        "id": "4XvRknixTh1g",
        "colab": {
          "base_uri": "https://localhost:8080/"
        },
        "outputId": "ab5a696d-6b4b-43d1-decf-d6f17b6bcdda"
      },
      "execution_count": 3,
      "outputs": [
        {
          "output_type": "stream",
          "name": "stdout",
          "text": [
            "Enter variable 1 value: 3\n",
            "Enter variable 2 value: 4\n",
            "Variables before swapping: Variable_1 is: 3 Variable_2 is: 4\n",
            "Variables after swapping: Variable_1 is: 4 Variable_2 is: 3\n"
          ]
        }
      ]
    },
    {
      "cell_type": "markdown",
      "metadata": {
        "id": "03jb4GZsBkBS"
      },
      "source": [
        "(3) Write a Python script to determine and print the length of a user-input string."
      ]
    },
    {
      "cell_type": "code",
      "execution_count": 4,
      "metadata": {
        "id": "YaGLbSHHB8Ej",
        "colab": {
          "base_uri": "https://localhost:8080/"
        },
        "outputId": "aa3eb3d9-92d3-4e0b-b264-7b43c3ef62c9"
      },
      "outputs": [
        {
          "output_type": "stream",
          "name": "stdout",
          "text": [
            "Enter a string: Pallavi\n",
            "Length of the string is: 7\n"
          ]
        }
      ],
      "source": [
        "String = str(input(\"Enter a string: \"))\n",
        "\n",
        "#measuring the length of a string\n",
        "Length = len(String)\n",
        "\n",
        "#printing the length of the given string\n",
        "print(\"Length of the string is:\", Length)\n"
      ]
    },
    {
      "cell_type": "markdown",
      "metadata": {
        "id": "jJDe71iLB616"
      },
      "source": [
        "(4) Construct a Python program that counts and displays the occurrences of each character in a given string.\n",
        "\n",
        "Sample String: 'openai.ai',\n",
        "\n",
        "Expected Result: {'a': 2, 'i': 2, '.': 1, 'o': 1, 'p': 1, 'e': 1, 'n': 1}"
      ]
    },
    {
      "cell_type": "code",
      "execution_count": 5,
      "metadata": {
        "id": "MtKskTzbCLaU",
        "colab": {
          "base_uri": "https://localhost:8080/"
        },
        "outputId": "90dd095a-b796-4207-a97c-d8912f33c48e"
      },
      "outputs": [
        {
          "output_type": "stream",
          "name": "stdout",
          "text": [
            "Enter a string: Pallavi Mannam\n",
            "Frequency of characters in a given string are as follows: {'P': 1, 'a': 4, 'l': 2, 'v': 1, 'i': 1, ' ': 1, 'M': 1, 'n': 2, 'm': 1}\n"
          ]
        }
      ],
      "source": [
        "String = str(input(\"Enter a string: \"))\n",
        "\n",
        "#calculating frequency of characters in a string\n",
        "Frequency = {}\n",
        "\n",
        "for i in String:\n",
        "  if i in Frequency:\n",
        "    Frequency[i] += 1\n",
        "  else:\n",
        "    Frequency[i] = 1\n",
        "\n",
        "#printing the frequecy of characters in a string\n",
        "print(\"Frequency of characters in a given string are as follows:\", str(Frequency))"
      ]
    },
    {
      "cell_type": "markdown",
      "metadata": {
        "id": "55W9AMdXCSpV"
      },
      "source": [
        "(5) Design a Python code to calculate the sum of all elements in a user-provided list."
      ]
    },
    {
      "cell_type": "code",
      "execution_count": 8,
      "metadata": {
        "id": "I57NXsauCec2",
        "colab": {
          "base_uri": "https://localhost:8080/"
        },
        "outputId": "56738bbf-b333-41c1-d481-b26c72f6f30b"
      },
      "outputs": [
        {
          "output_type": "stream",
          "name": "stdout",
          "text": [
            "Sum of elements is: 49\n"
          ]
        }
      ],
      "source": [
        "List = [7,8,9,10,15]\n",
        "Sum = 0\n",
        "\n",
        "#calculating sum of elements\n",
        "for i in range(0, len(List)):\n",
        "  Sum = Sum + List[i]\n",
        "\n",
        "#printing the sum of elements\n",
        "print(\"Sum of elements is:\", Sum)"
      ]
    },
    {
      "cell_type": "markdown",
      "metadata": {
        "id": "4ulBZ6yhCi9F"
      },
      "source": [
        "(6) Write a Python program that modifies a given string by replacing all occurrences of its first character with '$', excluding the first character itself.\n",
        "\n",
        "\n",
        "Sample String : 'restart‘,\n",
        "\n",
        "Expected Result : 'resta\\$t'"
      ]
    },
    {
      "cell_type": "code",
      "execution_count": 14,
      "metadata": {
        "id": "Fj0XhwbBCw2o",
        "colab": {
          "base_uri": "https://localhost:8080/"
        },
        "outputId": "a8c8c100-72f2-4a8e-c505-2d6d3e5bcc97"
      },
      "outputs": [
        {
          "output_type": "stream",
          "name": "stdout",
          "text": [
            "Enter a string: restart\n",
            "String before replacement restart\n",
            "resta$t\n"
          ]
        }
      ],
      "source": [
        "# Program to change all occurances of first character with '$' except for the first character\n",
        "\n",
        "#Prompting the user to enter a string\n",
        "String = str(input(\"Enter a string: \"))\n",
        "\n",
        "#printing the string before the replacement\n",
        "print(\"String before replacement\", String)\n",
        "\n",
        "#defining function for changing the string\n",
        "def change_character(String):\n",
        "#replace all occurrences of the the character with $ and then reconstruct the string by placing the original character as the first character followed by the modified string starting from the second character\n",
        "  char=String[0]\n",
        "  String= char + String[1:].replace(char, '$')\n",
        "  return String\n",
        "\n",
        "#printing the string after the replacement\n",
        "print(change_character(String))\n"
      ]
    },
    {
      "cell_type": "markdown",
      "source": [
        "(7) Write a Python program using a while loop to compute the factorial of a user-supplied number."
      ],
      "metadata": {
        "id": "qVXA3q7ET5JI"
      }
    },
    {
      "cell_type": "code",
      "source": [
        "\n",
        "Number = int(input(\"Enter a number to calculate the factorial: \"))\n",
        "\n",
        "#Prompting the user to enter a number and provide the factorial if it is greater than 0. If it negative, a message is displayed that factorial is not possible\n",
        "def factorial(Number):\n",
        "  if Number<0:\n",
        "    return \"Negative number: Factorial not possible\"\n",
        "  elif Number==0 or Number==1:\n",
        "    return 1\n",
        "\n",
        "  result = 1\n",
        "  while Number >1:\n",
        "    result*=Number\n",
        "    Number-=1\n",
        "  return result\n",
        "\n",
        "print(\"Factorial of the Number is:\", factorial(Number))"
      ],
      "metadata": {
        "id": "Lbt7R6UkT7BA",
        "colab": {
          "base_uri": "https://localhost:8080/"
        },
        "outputId": "579c8ad0-4abe-493b-9690-7ff2a7b34da7"
      },
      "execution_count": 16,
      "outputs": [
        {
          "output_type": "stream",
          "name": "stdout",
          "text": [
            "Enter a number to calculate the factorial: 11\n",
            "Factorial of the Number is: 39916800\n"
          ]
        }
      ]
    },
    {
      "cell_type": "markdown",
      "source": [
        "(8) Create a program that accepts a list of numbers as input and outputs a new list containing only the even numbers."
      ],
      "metadata": {
        "id": "6YfbzXMNT--R"
      }
    },
    {
      "cell_type": "code",
      "source": [
        "#Prompting the user to enter a list\n",
        "List =[]\n",
        "\n",
        "#Number of elements that will be accepted from the user as input\n",
        "Number = int(input(\"Enter a number of element: \"))\n",
        "\n",
        "#Appending number to the list\n",
        "for i in range(0,Number):\n",
        "  element = int(input(\"Enter the element:\"))\n",
        "  List.append(element)\n",
        "\n",
        "print(\"List before modification \", List)\n",
        "\n",
        "#iterating each\n",
        "print(\"List after modification:\")\n",
        "for j in List:\n",
        "  if j % 2 == 0:\n",
        "    print(j, end=\" \")\n"
      ],
      "metadata": {
        "id": "54q7wMQPUAKu",
        "colab": {
          "base_uri": "https://localhost:8080/"
        },
        "outputId": "b7f4bcd0-d8ae-4772-9a80-546795c5a338"
      },
      "execution_count": 20,
      "outputs": [
        {
          "output_type": "stream",
          "name": "stdout",
          "text": [
            "Enter a number of element: 2\n",
            "Enter the element:2\n",
            "Enter the element:4\n",
            "List before modification  [2, 4]\n",
            "List after modification:\n",
            "2 4 "
          ]
        }
      ]
    },
    {
      "cell_type": "markdown",
      "metadata": {
        "id": "_bIP7s1MCzue"
      },
      "source": [
        "\n",
        "(9) Design a Python function to check if a number is prime.\n"
      ]
    },
    {
      "cell_type": "code",
      "execution_count": 21,
      "metadata": {
        "id": "w79QilHXD3Mg",
        "colab": {
          "base_uri": "https://localhost:8080/"
        },
        "outputId": "cff52005-fcab-4d35-e928-238257b7c444"
      },
      "outputs": [
        {
          "output_type": "stream",
          "name": "stdout",
          "text": [
            "Enter a number to check if it is prime: 7\n",
            "7 is a prime number\n"
          ]
        }
      ],
      "source": [
        "#Program to calcualte if a number is prime or not\n",
        "\n",
        "#Prompting the user to enter a number\n",
        "Number = int(input(\"Enter a number to check if it is prime: \"))\n",
        "\n",
        "#Check if the number is prime or not and print it\n",
        "if Number<2:\n",
        "  print(Number, \"is not a prime number\")\n",
        "elif Number ==2:\n",
        "  print(Number, \"is a prime number\")\n",
        "else:\n",
        "  for i in range (2, int(Number**0.5) + 1):\n",
        "    if Number % i == 0:\n",
        "      print(Number, \"is not a prime number\")\n",
        "      break\n",
        "\n",
        "  else:\n",
        "    print(Number, \"is a prime number\")\n",
        "\n",
        "\n"
      ]
    },
    {
      "cell_type": "markdown",
      "metadata": {
        "id": "xCa2bK9aD4Q3"
      },
      "source": [
        "(10) Write a Python program to concatenate following dictionaries to create a new one.\n",
        "\n",
        "Sample Dictionary : dic1={1:10, 2:20}, dic2={3:30, 4:40}, dic3={5:50,6:60},\n",
        "\n",
        "Expected Result : {1: 10, 2: 20, 3: 30, 4: 40, 5: 50, 6: 60}\n"
      ]
    },
    {
      "cell_type": "code",
      "execution_count": 22,
      "metadata": {
        "id": "_z4aLqAbEET1",
        "colab": {
          "base_uri": "https://localhost:8080/"
        },
        "outputId": "c3e3bbae-925d-4378-eb85-ef303b963a4c"
      },
      "outputs": [
        {
          "output_type": "stream",
          "name": "stdout",
          "text": [
            "Combined dictionary is {1: 10, 2: 20, 3: 30, 4: 40, 5: 50, 6: 60}\n"
          ]
        }
      ],
      "source": [
        "#Program to concatinate provided dictionaries to create a new dictionary\n",
        "\n",
        "#Sample dictionaries provided\n",
        "dic1={1:10, 2:20}\n",
        "dic2={3:30, 4:40}\n",
        "dic3={5:50, 6:60}\n",
        "\n",
        "#using concatenate to combine all the dictionaries into a single dictionary\n",
        "Combined_dict = dic1.copy()\n",
        "Combined_dict.update(dic2)\n",
        "Combined_dict.update(dic3)\n",
        "\n",
        "#printing the combined dictionary\n",
        "print (\"Combined dictionary is\", Combined_dict)"
      ]
    },
    {
      "cell_type": "markdown",
      "source": [
        "(11) Design a Python function that takes a tuple of integers as input and returns the largest and smallest elements."
      ],
      "metadata": {
        "id": "bkyZ2xSZUOst"
      }
    },
    {
      "cell_type": "code",
      "source": [
        "#Program to find the largest and smallest numbers in a tuple and display them\n",
        "\n",
        "#Prompting the user to enter a list\n",
        "List =[]\n",
        "\n",
        "#Number of elements that will be accepted from the user as input\n",
        "Number = int(input(\"Enter a number of element: \"))\n",
        "\n",
        "#Appending number to the list\n",
        "for i in range(0,Number):\n",
        "  element = int(input(\"Enter the element:\"))\n",
        "  List.append(element)\n",
        "\n",
        "#Converting list to tuple\n",
        "Tuple = tuple(List)\n",
        "\n",
        "#Assigning the first element of the tuple as largest and smallest number value\n",
        "largest = Tuple[0]\n",
        "smallest = Tuple[0]\n",
        "\n",
        "# calculate the largest and smallest number in the tuple\n",
        "for Number in Tuple:\n",
        "  if Number > largest:\n",
        "    largest = Number\n",
        "  elif Number < smallest:\n",
        "    smallest = Number\n",
        "\n",
        "print(\"Largest number is:\", largest, \"Smallest number is:\",  smallest)"
      ],
      "metadata": {
        "id": "3FdLRBKOUQEd",
        "colab": {
          "base_uri": "https://localhost:8080/"
        },
        "outputId": "30bac9c0-f575-4715-88e3-ed73ab090ea1"
      },
      "execution_count": 23,
      "outputs": [
        {
          "output_type": "stream",
          "name": "stdout",
          "text": [
            "Enter a number of element: 2\n",
            "Enter the element:4\n",
            "Enter the element:2\n",
            "Largest number is: 4 Smallest number is: 2\n"
          ]
        }
      ]
    },
    {
      "cell_type": "markdown",
      "source": [
        "(12) Write a Python program that counts the frequency of each character in a given string and stores it in a dictionary."
      ],
      "metadata": {
        "id": "O0TVi3gKUTpp"
      }
    },
    {
      "cell_type": "code",
      "source": [
        "# Program to count the frequency of each character in a given string and store in a dictionary\n",
        "\n",
        "#Prompting the user to enter a string\n",
        "String = str(input(\"Enter a string: \"))\n",
        "\n",
        "#initializing a dictionary\n",
        "Character_Frequency = {}\n",
        "\n",
        "#Counting frequency of each character in the String\n",
        "for i in String:\n",
        "  if i in Character_Frequency:\n",
        "    Character_Frequency[i] +=1\n",
        "  else:\n",
        "    Character_Frequency[i] =1\n",
        "\n",
        "#Printing the character frequency in a String\n",
        "print (\"Character Frequency of the String is:\", Character_Frequency)"
      ],
      "metadata": {
        "id": "lAtfSfZXUU-h",
        "colab": {
          "base_uri": "https://localhost:8080/"
        },
        "outputId": "e05f71b2-73e4-47e1-ead4-65352e7cd394"
      },
      "execution_count": 24,
      "outputs": [
        {
          "output_type": "stream",
          "name": "stdout",
          "text": [
            "Enter a string: Pallavi\n",
            "Character Frequency of the String is: {'P': 1, 'a': 2, 'l': 2, 'v': 1, 'i': 1}\n"
          ]
        }
      ]
    },
    {
      "cell_type": "markdown",
      "metadata": {
        "id": "0v48Vqa7FrQh"
      },
      "source": [
        "(13) Implement a Python script to identify duplicate elements in a provided\n",
        "\n",
        "---\n",
        "\n",
        "array of integers. Return -1 if there are no duplicates."
      ]
    },
    {
      "cell_type": "code",
      "execution_count": 25,
      "metadata": {
        "id": "7WEmgq-DF2P1",
        "colab": {
          "base_uri": "https://localhost:8080/"
        },
        "outputId": "b2f2e00b-6e10-4b7f-f4bc-84a701efeda9"
      },
      "outputs": [
        {
          "output_type": "stream",
          "name": "stdout",
          "text": [
            "Enter a number of element: 2\n",
            "Enter the element:4\n",
            "Enter the element:5\n",
            "No Duplicates found: Returning -1\n"
          ]
        }
      ],
      "source": [
        "# Program to find duplicate elements in an array\n",
        "\n",
        "#Prompting the user to enter a list\n",
        "List =[]\n",
        "\n",
        "#Number of elements that will be accepted from the user as input\n",
        "Number = int(input(\"Enter a number of element: \"))\n",
        "\n",
        "#Appending number to the list\n",
        "for i in range(0,Number):\n",
        "  element = int(input(\"Enter the element:\"))\n",
        "  List.append(element)\n",
        "\n",
        "my_array = List\n",
        "Array_copy = set()\n",
        "duplicates_found = False\n",
        "\n",
        "#Find duplicates and print appropriate messsage\n",
        "for j in my_array:\n",
        "    if j in Array_copy:\n",
        "      print(\"Duplicate element\", j)\n",
        "      duplicates_found = True\n",
        "\n",
        "    else:\n",
        "      Array_copy.add(j)\n",
        "\n",
        "if not duplicates_found:\n",
        "    print(\"No Duplicates found: Returning -1\")\n"
      ]
    },
    {
      "cell_type": "markdown",
      "metadata": {
        "id": "vD5PYLMuGga_"
      },
      "source": [
        "(14) Write a Python script to find the common elements between two lists."
      ]
    },
    {
      "cell_type": "code",
      "execution_count": 26,
      "metadata": {
        "id": "t0D5kdJUGjjw",
        "colab": {
          "base_uri": "https://localhost:8080/"
        },
        "outputId": "8218bc7c-6b88-4cac-a493-d3a35773cfdc"
      },
      "outputs": [
        {
          "output_type": "stream",
          "name": "stdout",
          "text": [
            "Enter a number of element: 2\n",
            "Enter the element for list 1:44\n",
            "Enter the element for list 1:45\n",
            "Enter the element for list 2:3\n",
            "Enter the element for list 2:4\n",
            "Common Elements are:  []\n"
          ]
        }
      ],
      "source": [
        "4# write your answer here\n",
        "\n",
        "#Prompting the user to enter a list\n",
        "List1 =[]\n",
        "List2 =[]\n",
        "\n",
        "#Number of elements that will be accepted from the user as input\n",
        "Number = int(input(\"Enter a number of element: \"))\n",
        "\n",
        "#Appending number to the list1\n",
        "for i in range(0,Number):\n",
        "  element = int(input(\"Enter the element for list 1:\"))\n",
        "  List1.append(element)\n",
        "\n",
        "#Appending number to the list2\n",
        "for i in range(0,Number):\n",
        "  element = int(input(\"Enter the element for list 2:\"))\n",
        "  List2.append(element)\n",
        "\n",
        "#finding common elements and printing them\n",
        "Common_Elements = []\n",
        "for i in List1:\n",
        "  if i in List2 :\n",
        "      Common_Elements.append(i)\n",
        "\n",
        "print(\"Common Elements are: \", Common_Elements)\n"
      ]
    },
    {
      "cell_type": "markdown",
      "metadata": {
        "id": "uHkd-y5VhVWC"
      },
      "source": [
        "(15) Write a Python program to randomly divide the students in this class into six groups for term projects, each group should have at least 4 students but no more than 6 students (including 6).\n",
        "\n",
        "Here is the students list:\n",
        "\n",
        "student_list_spring_2024=[rb0846,\n",
        "ac1964,\n",
        "hc0612,\n",
        "md0912,\n",
        "ad1198,\n",
        "md0894,\n",
        "md0825,\n",
        "vg0598,\n",
        "vg0433,\n",
        "mh1068,\n",
        "yj0173,\n",
        "pk0553,\n",
        "tk0411,\n",
        "srk0204,\n",
        "sk2922,\n",
        "sk2936,\n",
        "mk1302,\n",
        "mk1317,\n",
        "tk0412,\n",
        "vk0656,\n",
        "sm2985,\n",
        "mm2372,\n",
        "un0045,\n",
        "an0892,\n",
        "sn0913,\n",
        "gp0252,\n",
        "ap1484,\n",
        "mr1765,\n",
        "sr1385,\n",
        "sr1335,\n",
        "hs0665,\n",
        "ms2060,\n",
        "gt0217,\n",
        "nt0385,\n",
        "tv0186,\n",
        "sv1394,\n",
        "sv1752,\n",
        "sv1555,\n",
        "sy0594\n",
        "]\n"
      ]
    },
    {
      "cell_type": "code",
      "execution_count": 27,
      "metadata": {
        "id": "3iGbmcOBhTwy",
        "colab": {
          "base_uri": "https://localhost:8080/"
        },
        "outputId": "05adb7b8-165d-4b31-fe73-6dbc52804c5c"
      },
      "outputs": [
        {
          "output_type": "stream",
          "name": "stdout",
          "text": [
            "Groups are as follows [['gt0217', 'un0045', 'sk2936', 'sr1385', 'an0892', 'hs0665'], ['mk1317', 'srk0204', 'sy0594', 'mm2372', 'sk2922', 'gp0252'], ['sn0913', 'ac1964', 'sv1394', 'ap1484', 'md0912', 'mk1302'], ['sv1555', 'rb0846', 'vg0433', 'ad1198', 'md0894', 'sm2985'], ['ms2060', 'vg0598', 'sv1752', 'sr1335', 'tk0411'], ['tv0186', 'md0825', 'yj0173', 'mh1068', 'tk0412'], ['nt0385', 'vk0656', 'hc0612', 'mr1765', 'pk0553']]\n"
          ]
        }
      ],
      "source": [
        "# write your answer here\n",
        "import random\n",
        "\n",
        "#creating a list of students ids\n",
        "List = [\"rb0846\", \"ac1964\", \"hc0612\", \"md0912\", \"ad1198\", \"md0894\", \"md0825\", \"vg0598\", \"vg0433\", \"mh1068\", \"yj0173\", \"pk0553\", \"tk0411\", \"srk0204\", \"sk2922\", \"sk2936\", \"mk1302\", \"mk1317\", \"tk0412\", \"vk0656\", \"sm2985\", \"mm2372\", \"un0045\", \"an0892\", \"sn0913\", \"gp0252\", \"ap1484\", \"mr1765\", \"sr1385\", \"sr1335\", \"hs0665\", \"ms2060\", \"gt0217\", \"nt0385\", \"tv0186\", \"sv1394\", \"sv1752\", \"sv1555\", \"sy0594\" ]\n",
        "\n",
        "#randomly suffling the ids\n",
        "random.shuffle(List)\n",
        "\n",
        "#dividing the students into groups between 4-6 and printing it\n",
        "Student_groups=[[] for _ in range(7)]\n",
        "\n",
        "for i in List:\n",
        "  minimum_group = min(Student_groups, key=len)\n",
        "  minimum_group.append(i)\n",
        "\n",
        "print(\"Groups are as follows\", Student_groups)\n",
        "\n",
        "\n",
        "\n"
      ]
    },
    {
      "cell_type": "markdown",
      "metadata": {
        "id": "fmZ9vX20Qs3d"
      },
      "source": [
        "(16) Create a program that takes a positive integer 'n' as input and prints the count of even numbers from 1 to 'n'. Optimize the loop using the break statement."
      ]
    },
    {
      "cell_type": "code",
      "execution_count": 28,
      "metadata": {
        "id": "W8Jw6sWMQs3d",
        "colab": {
          "base_uri": "https://localhost:8080/"
        },
        "outputId": "57d1bf33-8d8a-4f54-b8be-71d0cf0770b5"
      },
      "outputs": [
        {
          "output_type": "stream",
          "name": "stdout",
          "text": [
            "Enter a number: 23\n",
            "Count of even numbers between 1 to n are: 11\n"
          ]
        }
      ],
      "source": [
        "# write your answer here\n",
        "\n",
        "#Number accepted from the user as input\n",
        "Number = int(input(\"Enter a number: \"))\n",
        "\n",
        "count =0\n",
        "\n",
        "#counting even numbers between the range and printing them\n",
        "for i in range (1, Number+1):\n",
        "  if i%2==0:\n",
        "    count+=1\n",
        "  elif i > Number:\n",
        "    break\n",
        "\n",
        "print (\"Count of even numbers between 1 to n are:\", count)\n"
      ]
    },
    {
      "cell_type": "markdown",
      "metadata": {
        "id": "hvq4APMhQs3d"
      },
      "source": [
        "(17) Develop a Python function called 'count_vowels' that takes a string as input and returns the count of vowels (both lowercase and uppercase) present in the string, ignoring spaces and non-alphabetic characters."
      ]
    },
    {
      "cell_type": "code",
      "execution_count": 29,
      "metadata": {
        "id": "ZnoxhSglQs3d",
        "colab": {
          "base_uri": "https://localhost:8080/"
        },
        "outputId": "24a910fe-5418-45b8-daea-99383402aab0"
      },
      "outputs": [
        {
          "output_type": "stream",
          "name": "stdout",
          "text": [
            "Enter a string: Pallavi\n",
            "The count of vowels in the string are: 3\n"
          ]
        }
      ],
      "source": [
        "# Program with function called 'count_vowels' that takes a string as input\n",
        "def count_vowels(String):\n",
        "  vowels =\"aeiouAEIOU\"\n",
        "  count = 0\n",
        "\n",
        "  #counting vowels and printing the number\n",
        "  for i in String:\n",
        "    if i.isalpha() and i in vowels:\n",
        "      count+=1\n",
        "  return count\n",
        "\n",
        "#initializing String\n",
        "String = str(input(\"Enter a string: \"))\n",
        "\n",
        "#Function call and return value\n",
        "result=count_vowels(String)\n",
        "\n",
        "#printing the result\n",
        "print(\"The count of vowels in the string are:\", result)"
      ]
    },
    {
      "cell_type": "markdown",
      "source": [
        "(18) Create a custom exception named ValueTooSmallError in Python. Write a program that takes user input for an age, and if the entered age is less than 18, raise the ValueTooSmallError with an appropriate error message."
      ],
      "metadata": {
        "id": "55FWoSJPVVM6"
      }
    },
    {
      "cell_type": "code",
      "source": [
        "# Program to demonstrate custom exception named ValueTooSmallError\n",
        "\n",
        "class ValueTooSmallError(Exception):\n",
        "  \"This is an exception created for value of age less than 18\"\n",
        "  pass\n",
        "\n",
        "#Try and Exception block to demonstrate ValueTooSmallError\n",
        "try:\n",
        "  Age = int(input(\"Enter a age: \"))\n",
        "  if Age < 18:\n",
        "    raise ValueTooSmallError(\"Age should be greater than 18\")\n",
        "  else:\n",
        "    print(\"Age is entered correctly. Your age is:\", Age)\n",
        "except ValueTooSmallError as e:\n",
        "    print(f\"Error: {e}\")\n",
        "except ValueError:\n",
        "    print(\"Unknown error: Please check the value you entered\")\n"
      ],
      "metadata": {
        "id": "hwtr1wZmVX5A",
        "colab": {
          "base_uri": "https://localhost:8080/"
        },
        "outputId": "bcb6667b-c468-4cba-8d90-e7499a289d99"
      },
      "execution_count": 30,
      "outputs": [
        {
          "output_type": "stream",
          "name": "stdout",
          "text": [
            "Enter a age: 23\n",
            "Age is entered correctly. Your age is: 23\n"
          ]
        }
      ]
    },
    {
      "cell_type": "markdown",
      "source": [
        "(19) Develop a script that reverses a given string without using built-in reverse functions."
      ],
      "metadata": {
        "id": "Q9ecagcaVazW"
      }
    },
    {
      "cell_type": "code",
      "source": [
        "# Program to reverse a given string without using built-in reverse functions\n",
        "\n",
        "#Prompting the user to enter a string\n",
        "String = str(input(\"Enter a string: \"))\n",
        "\n",
        "#Reversing the String\n",
        "Reversed_String =String [::-1]\n",
        "\n",
        "#printing the orginal and reversed string\n",
        "print(\"Original String\", String)\n",
        "print(\"Reverse String\", Reversed_String)\n"
      ],
      "metadata": {
        "id": "gycgckoAVZjR",
        "colab": {
          "base_uri": "https://localhost:8080/"
        },
        "outputId": "725c51e8-3e14-4aba-abe7-b7c7ec5ef5ce"
      },
      "execution_count": 31,
      "outputs": [
        {
          "output_type": "stream",
          "name": "stdout",
          "text": [
            "Enter a string: PallavI\n",
            "Original String PallavI\n",
            "Reverse String IvallaP\n"
          ]
        }
      ]
    },
    {
      "cell_type": "markdown",
      "source": [
        "(20) Implement a Python script to generate a random password of a specified length."
      ],
      "metadata": {
        "id": "ZFG6RibifMLu"
      }
    },
    {
      "cell_type": "code",
      "source": [
        "# write your answer here\n",
        "\n",
        "import random\n",
        "import string\n",
        "\n",
        "Length = 12\n",
        "\n",
        "#Assigning valid characters\n",
        "Valid_characters=string.ascii_letters+string.ascii_lowercase+string.ascii_uppercase+string.punctuation\n",
        "\n",
        "#generating random password with valid characters\n",
        "Password = ''.join(random.choice(Valid_characters)for _ in range (Length))\n",
        "\n",
        "print(\"Random generated password is\", Password)\n"
      ],
      "metadata": {
        "id": "BFVrkEi9fNiD",
        "colab": {
          "base_uri": "https://localhost:8080/"
        },
        "outputId": "fb843607-c7a1-433d-e708-2060eadbfddb"
      },
      "execution_count": 32,
      "outputs": [
        {
          "output_type": "stream",
          "name": "stdout",
          "text": [
            "Random generated password is URRHWF\"uX;NT\n"
          ]
        }
      ]
    },
    {
      "cell_type": "markdown",
      "source": [
        "# Try these questions:"
      ],
      "metadata": {
        "id": "6SmvS7nSfbj8"
      }
    },
    {
      "cell_type": "markdown",
      "source": [
        "(21) Define a base class called 'Vehicle' with attributes make and model. Create a derived class Car that inherits from Vehicle and has an additional attribute 'num_doors'. Demonstrate an example of creating an instance of the 'Car' class and accessing its attributes."
      ],
      "metadata": {
        "id": "cboAr5pEWUf5"
      }
    },
    {
      "cell_type": "code",
      "source": [
        "# write your answer here\n",
        "# Base class\n",
        "class Vehicle:\n",
        "    def __init__(self, make, model):\n",
        "        self.make = make\n",
        "        self.model = model\n",
        "\n",
        "# Derived class\n",
        "class Car(Vehicle):\n",
        "    def __init__(self, make, model, num_doors):\n",
        "        super().__init__(make, model)  # Call the base class constructor\n",
        "        self.num_doors = num_doors\n",
        "\n",
        "# Create an instance of Car\n",
        "my_car = Car(\"Toyota\", \"Camry\", 4)\n",
        "\n",
        "# Access attributes\n",
        "print(\"Make:\", my_car.make)\n",
        "print(\"Model:\", my_car.model)\n",
        "print(\"Number of doors:\", my_car.num_doors)\n"
      ],
      "metadata": {
        "id": "phs9gciMWWAW",
        "colab": {
          "base_uri": "https://localhost:8080/"
        },
        "outputId": "dd17fb4f-fb6e-4cc6-837a-e60db7da3195"
      },
      "execution_count": 33,
      "outputs": [
        {
          "output_type": "stream",
          "name": "stdout",
          "text": [
            "Make: Toyota\n",
            "Model: Camry\n",
            "Number of doors: 4\n"
          ]
        }
      ]
    },
    {
      "cell_type": "markdown",
      "source": [
        "(22) Create a class called 'Shape' with a method calculate_area(). Implement two derived classes 'Circle' and 'Rectangle' that inherit from Shape and override the calculate_area() method. Demonstrate polymorphism by creating instances of both derived classes and calling the calculate_area() method."
      ],
      "metadata": {
        "id": "J8HHefNtePwd"
      }
    },
    {
      "cell_type": "code",
      "source": [
        "# write your answer here\n",
        "import math\n",
        "\n",
        "# Base class\n",
        "class Shape:\n",
        "    def calculate_area(self):\n",
        "        raise NotImplementedError(\"Subclasses must override calculate_area()\")\n",
        "\n",
        "# Derived class: Circle\n",
        "class Circle(Shape):\n",
        "    def __init__(self, radius):\n",
        "        self.radius = radius\n",
        "\n",
        "    def calculate_area(self):\n",
        "        return math.pi * self.radius ** 2\n",
        "\n",
        "# Derived class: Rectangle\n",
        "class Rectangle(Shape):\n",
        "    def __init__(self, width, height):\n",
        "        self.width = width\n",
        "        self.height = height\n",
        "\n",
        "    def calculate_area(self):\n",
        "        return self.width * self.height\n",
        "\n",
        "# Demonstrating polymorphism\n",
        "shapes = [\n",
        "    Circle(5),\n",
        "    Rectangle(4, 6)\n",
        "]\n",
        "\n",
        "for shape in shapes:\n",
        "    print(f\"{type(shape).__name__} area: {shape.calculate_area():.2f}\")\n"
      ],
      "metadata": {
        "id": "btnMmUZDeRhS",
        "colab": {
          "base_uri": "https://localhost:8080/"
        },
        "outputId": "bfc317ff-ee56-4d4a-cbe6-163b935ac505"
      },
      "execution_count": 34,
      "outputs": [
        {
          "output_type": "stream",
          "name": "stdout",
          "text": [
            "Circle area: 78.54\n",
            "Rectangle area: 24.00\n"
          ]
        }
      ]
    },
    {
      "cell_type": "markdown",
      "source": [
        "(23) Write a Python program that prompts the user to enter two numbers and perform a division operation. Handle exceptions for both zero division and invalid input (non-numeric input). Display appropriate error messages for each type of exception and ensure the program does not crash due to these errors."
      ],
      "metadata": {
        "id": "z0oqEAlTeMUS"
      }
    },
    {
      "cell_type": "code",
      "source": [
        "def divide_numbers():\n",
        "    try:\n",
        "        # Prompt user for input\n",
        "        num1 = float(input(\"Enter the first number: \"))\n",
        "        num2 = float(input(\"Enter the second number: \"))\n",
        "\n",
        "        # Perform division\n",
        "        result = num1 / num2\n",
        "        print(f\"Result: {result:.2f}\")\n",
        "\n",
        "    except ValueError:\n",
        "        print(\"Invalid input. Please enter numeric values only.\")\n",
        "    except ZeroDivisionError:\n",
        "        print(\"Cannot divide by zero. Please enter a non-zero second number.\")\n",
        "    except Exception as e:\n",
        "        print(f\"An unexpected error occurred: {e}\")\n",
        "\n",
        "# Run the function\n",
        "divide_numbers()\n"
      ],
      "metadata": {
        "id": "yjdc1zM1eMAs",
        "colab": {
          "base_uri": "https://localhost:8080/"
        },
        "outputId": "2310f4f1-790f-4ee6-f09e-0a7f5685d583"
      },
      "execution_count": 39,
      "outputs": [
        {
          "output_type": "stream",
          "name": "stdout",
          "text": [
            "Enter the first number: 1\n",
            "Enter the second number: 2\n",
            "Result: 0.50\n"
          ]
        }
      ]
    },
    {
      "cell_type": "markdown",
      "source": [
        "# Mandatory Question"
      ],
      "metadata": {
        "id": "sZOhks1dXWEe"
      }
    },
    {
      "cell_type": "markdown",
      "source": [
        "**Important:**\n",
        "Reflecting on the first three lectures and the exercises you've completed, please provide feedback on your learning experience. Share your thoughts on whether the material covered was clear, the exercises were helpful, and if you feel more confident in applying Python programming concepts. Additionally, mention any specific areas where you would like more clarification or topics you would like to explore further in future lectures. Your feedback is valuable in shaping the course for an effective learning journey."
      ],
      "metadata": {
        "id": "eqmHVEwaWhbV"
      }
    },
    {
      "cell_type": "markdown",
      "source": [
        "Write your response here."
      ],
      "metadata": {
        "id": "HlpXOT9wXQAd"
      }
    },
    {
      "cell_type": "code",
      "source": [
        "''' The lessons were clear and Understandable for beginners too. '''"
      ],
      "metadata": {
        "id": "Dq2aOZU7XIke",
        "colab": {
          "base_uri": "https://localhost:8080/",
          "height": 35
        },
        "outputId": "2b4aa31c-bbde-4189-d417-79f2b8eab84b"
      },
      "execution_count": 38,
      "outputs": [
        {
          "output_type": "execute_result",
          "data": {
            "text/plain": [
              "' The lessons were clear and Understandable for beginners too. '"
            ],
            "application/vnd.google.colaboratory.intrinsic+json": {
              "type": "string"
            }
          },
          "metadata": {},
          "execution_count": 38
        }
      ]
    },
    {
      "cell_type": "code",
      "source": [],
      "metadata": {
        "id": "aYuHDxgVH499"
      },
      "execution_count": null,
      "outputs": []
    }
  ],
  "metadata": {
    "colab": {
      "provenance": [],
      "include_colab_link": true
    },
    "kernelspec": {
      "display_name": "Python 3 (ipykernel)",
      "language": "python",
      "name": "python3"
    },
    "language_info": {
      "codemirror_mode": {
        "name": "ipython",
        "version": 3
      },
      "file_extension": ".py",
      "mimetype": "text/x-python",
      "name": "python",
      "nbconvert_exporter": "python",
      "pygments_lexer": "ipython3",
      "version": "3.9.12"
    }
  },
  "nbformat": 4,
  "nbformat_minor": 0
}